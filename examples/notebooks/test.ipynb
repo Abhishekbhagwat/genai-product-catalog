{
 "cells": [
  {
   "cell_type": "code",
   "execution_count": 1,
   "metadata": {},
   "outputs": [],
   "source": [
    "import sys\n",
    "import os\n",
    "\n",
    "os.environ[\"APPLIED_AI_CONF\"] = \"../../conf/app.toml\"\n",
    "\n",
    "if os.path.abspath(\"../..\") not in sys.path:\n",
    "    sys.path.insert(0, os.path.abspath(\"../..\"))\n",
    "\n",
    "from google.cloud.ml.applied.attributes import attributes\n",
    "from google.cloud.ml.applied.categories import category\n",
    "from google.cloud.ml.applied.model import domain_model as m\n",
    "from google.cloud.ml.applied.images import image_to_text\n",
    "from google.cloud.ml.applied.marketing import marketing"
   ]
  },
  {
   "cell_type": "markdown",
   "metadata": {},
   "source": []
  },
  {
   "cell_type": "markdown",
   "metadata": {},
   "source": [
    "## Generate Product Categories\n",
    "\n",
    "Based on any product description and (optional) image, we perform the following:\n",
    "\n",
    "* Create multimodal embeddings (text and image) from the input description and image\n",
    "* Perform nearest neighbor search on existing product catalog embeddings in Vertex Vector Search to fetch x nearest product ids\n",
    "* Lookup existing product categories from the retrieved ids.\n",
    "* Use an LLM to rank returned categories"
   ]
  },
  {
   "cell_type": "code",
   "execution_count": 2,
   "metadata": {},
   "outputs": [
    {
     "data": {
      "text/plain": [
       "CategoryList(values=[['Watches', 'Wrist Watches', 'Timewel Wrist Watches']])"
      ]
     },
     "execution_count": 2,
     "metadata": {},
     "output_type": "execute_result"
    }
   ],
   "source": [
    "category.retrieve_and_rank(\n",
    "    desc = \"Timewel 1100-N1949_S Analog Watch - For Women - Buy Timewel 1100-N1949_S Analog Watch - For Women 1100-N1949_S Online at Rs.855 in India Only at Flipkart.com. - Great Discounts, Only Genuine Products, 30 Day Replacement Guarantee, Free Shipping. Cash On Delivery!)\"\n",
    ")"
   ]
  },
  {
   "cell_type": "code",
   "execution_count": 3,
   "metadata": {},
   "outputs": [
    {
     "data": {
      "text/plain": [
       "CategoryList(values=[['Watches', 'Wrist Watches', 'Timewel Wrist Watches'], ['Watches', 'Wrist Watches', 'Times Wrist Watches']])"
      ]
     },
     "execution_count": 3,
     "metadata": {},
     "output_type": "execute_result"
    }
   ],
   "source": [
    "category.retrieve_and_rank(\n",
    "    desc = \"Timewel 1100-N1949_S Analog Watch - For Women - Buy Timewel 1100-N1949_S Analog Watch - For Women 1100-N1949_S Online at Rs.855 in India Only at Flipkart.com. - Great Discounts, Only Genuine Products, 30 Day Replacement Guarantee, Free Shipping. Cash On Delivery!)\",\n",
    "    image = \"gs://genai-product-catalog/flipkart_20k_oct26/dbdac18a8ee5a8a48238b9685c96e90a_0.jpg\"\n",
    ")"
   ]
  },
  {
   "cell_type": "markdown",
   "metadata": {},
   "source": [
    "## Generate Product Attributes\n",
    "\n",
    "We utilize an LLM to generate product attributes to further enhance a product listing making it more effective for search and recommendations usecases.\n",
    "\n",
    "Using the same mechanism above, we can use a product description and an image to generate these attributes"
   ]
  },
  {
   "cell_type": "code",
   "execution_count": 4,
   "metadata": {},
   "outputs": [
    {
     "data": {
      "text/plain": [
       "[AttributeValue(attribute_name='Brand', attribute_value='Timewel'),\n",
       " AttributeValue(attribute_name='Model', attribute_value='1100-N1949_S'),\n",
       " AttributeValue(attribute_name='Gender', attribute_value='Women'),\n",
       " AttributeValue(attribute_name='Price', attribute_value='Rs.855'),\n",
       " AttributeValue(attribute_name='Discount', attribute_value='Great'),\n",
       " AttributeValue(attribute_name='Product Type', attribute_value='Analog Watch'),\n",
       " AttributeValue(attribute_name='Shipping', attribute_value='Free'),\n",
       " AttributeValue(attribute_name='COD', attribute_value='Yes'),\n",
       " AttributeValue(attribute_name='Guarantee', attribute_value='30 Day Replacement')]"
      ]
     },
     "execution_count": 4,
     "metadata": {},
     "output_type": "execute_result"
    }
   ],
   "source": [
    "attributes.retrieve_and_generate_attributes(\n",
    "    desc = \"Timewel 1100-N1949_S Analog Watch - For Women - Buy Timewel 1100-N1949_S Analog Watch - For Women 1100-N1949_S Online at Rs.855 in India Only at Flipkart.com. - Great Discounts, Only Genuine Products, 30 Day Replacement Guarantee, Free Shipping. Cash On Delivery!)\",\n",
    ")"
   ]
  },
  {
   "cell_type": "code",
   "execution_count": 5,
   "metadata": {},
   "outputs": [
    {
     "data": {
      "text/plain": [
       "[AttributeValue(attribute_name='Brand', attribute_value='Timewel'),\n",
       " AttributeValue(attribute_name='Model', attribute_value='1100-N1949_S'),\n",
       " AttributeValue(attribute_name='Gender', attribute_value='Women'),\n",
       " AttributeValue(attribute_name='Price', attribute_value='Rs.855'),\n",
       " AttributeValue(attribute_name='Discount', attribute_value='Great'),\n",
       " AttributeValue(attribute_name='Product Type', attribute_value='Analog Watch'),\n",
       " AttributeValue(attribute_name='Shipping', attribute_value='Free'),\n",
       " AttributeValue(attribute_name='Cash on Delivery', attribute_value='Yes'),\n",
       " AttributeValue(attribute_name='Replacement Guarantee', attribute_value='30 Days')]"
      ]
     },
     "execution_count": 5,
     "metadata": {},
     "output_type": "execute_result"
    }
   ],
   "source": [
    "product_attributes = attributes.retrieve_and_generate_attributes(\n",
    "    desc = \"Timewel 1100-N1949_S Analog Watch - For Women - Buy Timewel 1100-N1949_S Analog Watch - For Women 1100-N1949_S Online at Rs.855 in India Only at Flipkart.com. - Great Discounts, Only Genuine Products, 30 Day Replacement Guarantee, Free Shipping. Cash On Delivery!)\",\n",
    "    image = \"gs://genai-product-catalog/flipkart_20k_oct26/dbdac18a8ee5a8a48238b9685c96e90a_0.jpg\"\n",
    ")\n",
    "product_attributes"
   ]
  },
  {
   "cell_type": "markdown",
   "metadata": {},
   "source": [
    "## Generate Product Image Attributes\n",
    "We can also use an LVM to analyze a product image an extract product attributes"
   ]
  },
  {
   "cell_type": "code",
   "execution_count": 6,
   "metadata": {},
   "outputs": [
    {
     "data": {
      "text/plain": [
       "ProductAttributes(product_attributes=[{'attribute_name': 'Brand', 'attribute_value': 'Timewel'}, {'attribute_name': 'Model', 'attribute_value': 'TW1111SL01'}, {'attribute_name': 'Gender', 'attribute_value': 'Men'}, {'attribute_name': 'Movement', 'attribute_value': 'Quartz'}, {'attribute_name': 'Case Shape', 'attribute_value': 'Round'}, {'attribute_name': 'Case Material', 'attribute_value': 'Alloy'}, {'attribute_name': 'Dial Color', 'attribute_value': 'Silver'}, {'attribute_name': 'Band Material', 'attribute_value': 'Leather'}, {'attribute_name': 'Band Color', 'attribute_value': 'Black'}, {'attribute_name': 'Clasp Type', 'attribute_value': 'Buckle'}, {'attribute_name': 'Water Resistance', 'attribute_value': '30 meters'}, {'attribute_name': 'Functions', 'attribute_value': 'Time, Date'}, {'attribute_name': 'Style', 'attribute_value': 'Casual'}, {'attribute_name': 'Price', 'attribute_value': '1000'}])"
      ]
     },
     "execution_count": 6,
     "metadata": {},
     "output_type": "execute_result"
    }
   ],
   "source": [
    "test_image = m.ImageRequest(image=\"gs://genai-product-catalog/flipkart_20k_oct26/dbdac18a8ee5a8a48238b9685c96e90a_0.jpg\")\n",
    "image_to_text.image_to_attributes(test_image)"
   ]
  },
  {
   "cell_type": "markdown",
   "metadata": {},
   "source": [
    "## Generate Marketing Description\n",
    "We use the product description as well as the above generated product attributes to generate a product marketing description"
   ]
  },
  {
   "cell_type": "code",
   "execution_count": 7,
   "metadata": {},
   "outputs": [
    {
     "name": "stdout",
     "output_type": "stream",
     "text": [
      " **Timewel 1100-N1949_S: A Stylish and Reliable Analog Watch for Women**\n",
      "\n",
      "Crafted with precision and elegance, the Timewel 1100-N1949_S Analog Watch is a stunning timepiece designed exclusively for women. This watch combines timeless design with exceptional functionality, making it a must-have accessory for the modern woman.\n",
      "\n",
      "**Key Features:**\n",
      "\n",
      "- **Elegant Design:** The Timewel 1100-N1949_S watch boasts a sophisticated and stylish design that complements any outfit, whether casual or formal. Its sleek silhouette and intricate detailing add a touch of luxury to your wrist.\n",
      "\n",
      "- **Durable Construction:** Made with high-quality materials, this watch is built to last. The sturdy case and scratch-resistant mineral glass ensure longevity, while the comfortable leather strap provides a secure and comfortable fit.\n",
      "\n",
      "- **Precise Quartz Movement:** Powered by reliable quartz movement, this watch keeps accurate time, ensuring you stay punctual and organized throughout the day.\n",
      "\n",
      "- **Easy to Read Dial:** The watch features a clear and easy-to-read analog dial, with bold markings and luminous hands that allow for effortless timekeeping, even in low-light conditions.\n",
      "\n",
      "- **Water Resistance:** With a water resistance rating of up to 30 meters, this watch can withstand accidental splashes and light rain, making it suitable for everyday wear.\n",
      "\n",
      "**Unbeatable Value:**\n",
      "\n",
      "At an incredible price of just Rs.855, the Timewel 1100-N1949_S Analog Watch offers exceptional value for money. You can enjoy great discounts and genuine products when you shop at Flipkart.com, India's leading online shopping destination.\n",
      "\n",
      "**Additional Benefits:**\n",
      "\n",
      "- **30-Day Replacement Guarantee:** Flipkart offers a hassle-free 30-day replacement guarantee, ensuring your complete satisfaction with your purchase.\n",
      "\n",
      "- **Free Shipping:** Enjoy the convenience of free shipping on your order, making it even more affordable.\n",
      "\n",
      "- **Cash on Delivery:** For added convenience, you can choose the cash on delivery option and pay for your watch upon receiving it.\n",
      "\n",
      "**Don't miss out on this incredible opportunity to own the Timewel 1100-N1949_S Analog Watch. Order yours today and elevate your style while enjoying exceptional quality and value!**\n"
     ]
    }
   ],
   "source": [
    "marketing_request = m.MarketingRequest(\n",
    "    description=\"Timewel 1100-N1949_S Analog Watch - For Women - Buy Timewel 1100-N1949_S Analog Watch - For Women 1100-N1949_S Online at Rs.855 in India Only at Flipkart.com. - Great Discounts, Only Genuine Products, 30 Day Replacement Guarantee, Free Shipping. Cash On Delivery!)\",\n",
    "    attributes=product_attributes\n",
    ")\n",
    "\n",
    "marketing_copy = marketing.generate_marketing_copy(marketing_request)\n",
    "print(marketing_copy.text)"
   ]
  },
  {
   "cell_type": "code",
   "execution_count": null,
   "metadata": {},
   "outputs": [],
   "source": []
  }
 ],
 "metadata": {
  "kernelspec": {
   "display_name": ".venv",
   "language": "python",
   "name": "python3"
  },
  "language_info": {
   "codemirror_mode": {
    "name": "ipython",
    "version": 3
   },
   "file_extension": ".py",
   "mimetype": "text/x-python",
   "name": "python",
   "nbconvert_exporter": "python",
   "pygments_lexer": "ipython3",
   "version": "3.11.6"
  }
 },
 "nbformat": 4,
 "nbformat_minor": 2
}
