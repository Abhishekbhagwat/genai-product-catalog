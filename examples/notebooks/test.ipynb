{
 "cells": [
  {
   "cell_type": "code",
   "execution_count": 10,
   "outputs": [],
   "source": [
    "!sh ../../.venv/bin/activate\n",
    "\n",
    "import sys\n",
    "sys.path.append('../../')"
   ],
   "metadata": {
    "collapsed": false
   }
  },
  {
   "cell_type": "code",
   "execution_count": 11,
   "outputs": [],
   "source": [
    "# Import dependencies\n",
    "from google.cloud.ml.applied.attributes import attributes\n",
    "from google.cloud.ml.applied.categories import category\n",
    "from google.cloud.ml.applied.model import domain_model as m\n",
    "from google.cloud.ml.applied.images import image_to_text\n",
    "from google.cloud.ml.applied.marketing import marketing"
   ],
   "metadata": {
    "collapsed": false
   }
  },
  {
   "cell_type": "code",
   "execution_count": 12,
   "outputs": [
    {
     "data": {
      "text/plain": "CategoryList(values=[['Clothing', \"Men's Clothing\", 'Shirts', 'Casual & Party Wear Shirts'], ['Clothing', \"Men's Clothing\", 'Ethnic Wear', 'Shirts'], ['Clothing', \"Men's Clothing\", 'T-Shirts', 'Nimya T-Shirts']])"
     },
     "execution_count": 12,
     "metadata": {},
     "output_type": "execute_result"
    }
   ],
   "source": [
    "category.retrieve_and_rank(\n",
    "  desc = \"Men Regular Fit Checkered Spread Collar Casual Shirt  (Pack of 3)\"\n",
    ")"
   ],
   "metadata": {
    "collapsed": false
   }
  },
  {
   "cell_type": "code",
   "execution_count": null,
   "outputs": [],
   "source": [],
   "metadata": {
    "collapsed": false
   }
  }
 ],
 "metadata": {
  "kernelspec": {
   "display_name": "Python 3",
   "language": "python",
   "name": "python3"
  },
  "language_info": {
   "codemirror_mode": {
    "name": "ipython",
    "version": 2
   },
   "file_extension": ".py",
   "mimetype": "text/x-python",
   "name": "python",
   "nbconvert_exporter": "python",
   "pygments_lexer": "ipython2",
   "version": "2.7.6"
  }
 },
 "nbformat": 4,
 "nbformat_minor": 0
}
