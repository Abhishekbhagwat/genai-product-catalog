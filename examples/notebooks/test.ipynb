{
 "cells": [
  {
   "cell_type": "code",
   "execution_count": 1,
   "metadata": {},
   "outputs": [],
   "source": [
    "import sys\n",
    "import os\n",
    "\n",
    "os.environ[\"APPLIED_AI_CONF\"] = \"../../conf/app.toml\"\n",
    "\n",
    "if os.path.abspath(\"../..\") not in sys.path:\n",
    "    sys.path.insert(0, os.path.abspath(\"../..\"))\n",
    "\n",
    "from google.cloud.ml.applied.attributes import attributes\n",
    "from google.cloud.ml.applied.categories import category\n",
    "from google.cloud.ml.applied.model import domain_model as m\n",
    "from google.cloud.ml.applied.images import image_to_text\n",
    "from google.cloud.ml.applied.marketing import marketing"
   ]
  },
  {
   "cell_type": "markdown",
   "metadata": {},
   "source": []
  },
  {
   "cell_type": "markdown",
   "metadata": {},
   "source": [
    "## Generate Product Categories\n",
    "\n",
    "Based on any product description and (optional) image, we perform the following:\n",
    "\n",
    "* Create multimodal embeddings (text and image) from the input description and image\n",
    "* Perform nearest neighbor search on existing product catalog embeddings in Vertex Vector Search to fetch x nearest product ids\n",
    "* Lookup existing product categories from the retrieved ids.\n",
    "* Use an LLM to rank returned categories"
   ]
  },
  {
   "cell_type": "code",
   "execution_count": 2,
   "metadata": {},
   "outputs": [
    {
     "data": {
      "text/plain": [
       "CategoryList(values=[['Watches', 'Wrist Watches', 'Timewel Wrist Watches']])"
      ]
     },
     "execution_count": 2,
     "metadata": {},
     "output_type": "execute_result"
    }
   ],
   "source": [
    "category.retrieve_and_rank(\n",
    "    desc = \"Timewel 1100-N1949_S Analog Watch - For Women - Buy Timewel 1100-N1949_S Analog Watch - For Women 1100-N1949_S Online at Rs.855 in India Only at Flipkart.com. - Great Discounts, Only Genuine Products, 30 Day Replacement Guarantee, Free Shipping. Cash On Delivery!)\"\n",
    ")"
   ]
  },
  {
   "cell_type": "code",
   "execution_count": 3,
   "metadata": {},
   "outputs": [
    {
     "data": {
      "text/plain": [
       "CategoryList(values=[['Watches', 'Wrist Watches', 'Timewel Wrist Watches'], ['Watches', 'Wrist Watches', 'Times Wrist Watches']])"
      ]
     },
     "execution_count": 3,
     "metadata": {},
     "output_type": "execute_result"
    }
   ],
   "source": [
    "category.retrieve_and_rank(\n",
    "    desc = \"Timewel 1100-N1949_S Analog Watch - For Women - Buy Timewel 1100-N1949_S Analog Watch - For Women 1100-N1949_S Online at Rs.855 in India Only at Flipkart.com. - Great Discounts, Only Genuine Products, 30 Day Replacement Guarantee, Free Shipping. Cash On Delivery!)\",\n",
    "    image = \"gs://genai-product-catalog/flipkart_20k_oct26/dbdac18a8ee5a8a48238b9685c96e90a_0.jpg\"\n",
    ")"
   ]
  },
  {
   "cell_type": "markdown",
   "metadata": {},
   "source": [
    "## Generate Product Attributes\n",
    "\n",
    "We utilize an LLM to generate product attributes to further enhance a product listing making it more effective for search and recommendations usecases.\n",
    "\n",
    "Using the same mechanism above, we can use a product description and an image to generate these attributes"
   ]
  },
  {
   "cell_type": "code",
   "execution_count": 4,
   "metadata": {},
   "outputs": [
    {
     "data": {
      "text/plain": [
       "ProductAttributes(product_attributes=[AttributeValue(attribute_name='Brand', attribute_value='Timewel'), AttributeValue(attribute_name='Model', attribute_value='1100-N1949_S'), AttributeValue(attribute_name='Gender', attribute_value='Women'), AttributeValue(attribute_name='Price', attribute_value='Rs.855'), AttributeValue(attribute_name='Discount', attribute_value='Great'), AttributeValue(attribute_name='Product Type', attribute_value='Analog Watch'), AttributeValue(attribute_name='Shipping', attribute_value='Free'), AttributeValue(attribute_name='COD', attribute_value='Yes'), AttributeValue(attribute_name='Guarantee', attribute_value='30 Day Replacement')])"
      ]
     },
     "execution_count": 4,
     "metadata": {},
     "output_type": "execute_result"
    }
   ],
   "source": [
    "attributes.retrieve_and_generate_attributes(\n",
    "    desc = \"Timewel 1100-N1949_S Analog Watch - For Women - Buy Timewel 1100-N1949_S Analog Watch - For Women 1100-N1949_S Online at Rs.855 in India Only at Flipkart.com. - Great Discounts, Only Genuine Products, 30 Day Replacement Guarantee, Free Shipping. Cash On Delivery!)\",\n",
    ")"
   ]
  },
  {
   "cell_type": "code",
   "execution_count": 5,
   "metadata": {},
   "outputs": [
    {
     "data": {
      "text/plain": [
       "ProductAttributes(product_attributes=[AttributeValue(attribute_name='Brand', attribute_value='Timewel'), AttributeValue(attribute_name='Model', attribute_value='1100-N1949_S'), AttributeValue(attribute_name='Gender', attribute_value='Women'), AttributeValue(attribute_name='Price', attribute_value='Rs.855'), AttributeValue(attribute_name='Discount', attribute_value='Great'), AttributeValue(attribute_name='Product Type', attribute_value='Analog Watch'), AttributeValue(attribute_name='Shipping', attribute_value='Free'), AttributeValue(attribute_name='Cash on Delivery', attribute_value='Yes'), AttributeValue(attribute_name='Replacement Guarantee', attribute_value='30 Days')])"
      ]
     },
     "execution_count": 5,
     "metadata": {},
     "output_type": "execute_result"
    }
   ],
   "source": [
    "product_attributes = attributes.retrieve_and_generate_attributes(\n",
    "    desc = \"Timewel 1100-N1949_S Analog Watch - For Women - Buy Timewel 1100-N1949_S Analog Watch - For Women 1100-N1949_S Online at Rs.855 in India Only at Flipkart.com. - Great Discounts, Only Genuine Products, 30 Day Replacement Guarantee, Free Shipping. Cash On Delivery!)\",\n",
    "    image = \"gs://genai-product-catalog/flipkart_20k_oct26/dbdac18a8ee5a8a48238b9685c96e90a_0.jpg\"\n",
    ")\n",
    "product_attributes"
   ]
  },
  {
   "cell_type": "code",
   "execution_count": 9,
   "metadata": {},
   "outputs": [
    {
     "data": {
      "text/plain": [
       "[AttributeValue(attribute_name='Brand', attribute_value='Timewel'),\n",
       " AttributeValue(attribute_name='Model', attribute_value='1100-N1949_S'),\n",
       " AttributeValue(attribute_name='Gender', attribute_value='Women'),\n",
       " AttributeValue(attribute_name='Price', attribute_value='Rs.855'),\n",
       " AttributeValue(attribute_name='Discount', attribute_value='Great'),\n",
       " AttributeValue(attribute_name='Product Type', attribute_value='Analog Watch'),\n",
       " AttributeValue(attribute_name='Shipping', attribute_value='Free'),\n",
       " AttributeValue(attribute_name='Cash on Delivery', attribute_value='Yes'),\n",
       " AttributeValue(attribute_name='Replacement Guarantee', attribute_value='30 Days')]"
      ]
     },
     "execution_count": 9,
     "metadata": {},
     "output_type": "execute_result"
    }
   ],
   "source": []
  },
  {
   "cell_type": "markdown",
   "metadata": {},
   "source": [
    "## Generate Product Image Attributes\n",
    "We can also use an LVM to analyze a product image an extract product attributes"
   ]
  },
  {
   "cell_type": "code",
   "execution_count": 11,
   "metadata": {},
   "outputs": [
    {
     "data": {
      "text/plain": [
       "ProductAttributes(product_attributes=[AttributeValue(attribute_name='Brand', attribute_value='Timewel'), AttributeValue(attribute_name='Model', attribute_value='TW1234'), AttributeValue(attribute_name='Gender', attribute_value='Men'), AttributeValue(attribute_name='Movement', attribute_value='Quartz'), AttributeValue(attribute_name='Case Shape', attribute_value='Round'), AttributeValue(attribute_name='Case Material', attribute_value='Alloy'), AttributeValue(attribute_name='Case Diameter', attribute_value='40mm'), AttributeValue(attribute_name='Dial Color', attribute_value='Silver'), AttributeValue(attribute_name='Band Material', attribute_value='Leather'), AttributeValue(attribute_name='Band Color', attribute_value='Black'), AttributeValue(attribute_name='Band Width', attribute_value='20mm'), AttributeValue(attribute_name='Clasp Type', attribute_value='Buckle'), AttributeValue(attribute_name='Water Resistance', attribute_value='30m'), AttributeValue(attribute_name='Functions', attribute_value='Time, Date'), AttributeValue(attribute_name='Style', attribute_value='Casual'), AttributeValue(attribute_name='Warranty', attribute_value='1 Year')])"
      ]
     },
     "execution_count": 11,
     "metadata": {},
     "output_type": "execute_result"
    }
   ],
   "source": [
    "test_image = m.ImageRequest(image=\"gs://genai-product-catalog/flipkart_20k_oct26/dbdac18a8ee5a8a48238b9685c96e90a_0.jpg\")\n",
    "image_to_text.image_to_attributes(test_image)"
   ]
  },
  {
   "cell_type": "markdown",
   "metadata": {},
   "source": [
    "## Generate Marketing Description\n",
    "We use the product description as well as the above generated product attributes to generate a product marketing description"
   ]
  },
  {
   "cell_type": "code",
   "execution_count": 10,
   "metadata": {},
   "outputs": [
    {
     "name": "stdout",
     "output_type": "stream",
     "text": [
      " **Timewel 1100-N1949_S Analog Watch: A Stylish Timepiece for Women**\n",
      "\n",
      "Crafted with precision and designed for modern women, the Timewel 1100-N1949_S Analog Watch is a must-have accessory for your collection. This elegant timepiece combines classic design elements with contemporary style, making it a versatile companion for any occasion.\n",
      "\n",
      "**Key Features:**\n",
      "\n",
      "- **Analog Display:** Experience the timeless charm of a traditional analog display, featuring easy-to-read hour and minute hands.\n",
      "\n",
      "- **Durable Construction:** Crafted from high-quality materials, this watch ensures long-lasting durability and resilience against everyday wear and tear.\n",
      "\n",
      "- **Comfortable Fit:** Designed with comfort in mind, the watch features a comfortable strap that perfectly contours to your wrist.\n",
      "\n",
      "- **Versatile Design:** With its sleek and sophisticated design, this watch effortlessly complements both casual and formal attire, making it suitable for a wide range of occasions.\n",
      "\n",
      "- **Affordable Luxury:** Priced at an unbeatable value of Rs.855, this Timewel watch offers great discounts without compromising on quality.\n",
      "\n",
      "**Additional Benefits:**\n",
      "\n",
      "- **Trusted Brand:** Timewel is a renowned brand known for its commitment to quality and customer satisfaction.\n",
      "\n",
      "- **Genuine Products:** Rest assured that you're purchasing an authentic Timewel watch when you shop with us.\n",
      "\n",
      "- **30-Day Replacement Guarantee:** Enjoy peace of mind with our hassle-free 30-day replacement guarantee.\n",
      "\n",
      "- **Free Shipping:** Get your watch delivered to your doorstep absolutely free of charge.\n",
      "\n",
      "- **Cash on Delivery:** Pay for your purchase conveniently upon delivery.\n",
      "\n",
      "**Elevate your style and embrace precision with the Timewel 1100-N1949_S Analog Watch. Order yours today and experience the perfect blend of fashion and functionality!**\n"
     ]
    }
   ],
   "source": [
    "marketing_request = m.MarketingRequest(\n",
    "    description=\"Timewel 1100-N1949_S Analog Watch - For Women - Buy Timewel 1100-N1949_S Analog Watch - For Women 1100-N1949_S Online at Rs.855 in India Only at Flipkart.com. - Great Discounts, Only Genuine Products, 30 Day Replacement Guarantee, Free Shipping. Cash On Delivery!)\",\n",
    "    attributes=product_attributes.product_attributes\n",
    ")\n",
    "\n",
    "marketing_copy = marketing.generate_marketing_copy(marketing_request)\n",
    "print(marketing_copy.text)"
   ]
  },
  {
   "cell_type": "code",
   "execution_count": null,
   "metadata": {},
   "outputs": [],
   "source": []
  }
 ],
 "metadata": {
  "kernelspec": {
   "display_name": ".venv",
   "language": "python",
   "name": "python3"
  },
  "language_info": {
   "codemirror_mode": {
    "name": "ipython",
    "version": 3
   },
   "file_extension": ".py",
   "mimetype": "text/x-python",
   "name": "python",
   "nbconvert_exporter": "python",
   "pygments_lexer": "ipython3",
   "version": "3.11.6"
  }
 },
 "nbformat": 4,
 "nbformat_minor": 2
}
