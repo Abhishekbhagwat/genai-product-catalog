{
 "cells": [
  {
   "cell_type": "code",
   "execution_count": null,
   "metadata": {},
   "outputs": [],
   "source": [
    "import sys\n",
    "import os\n",
    "\n",
    "if os.path.abspath(\"../..\") not in sys.path:\n",
    "    sys.path.insert(0, os.path.abspath(\"../..\"))\n",
    "\n",
    "from google.cloud.ml.applied.attributes import attributes\n",
    "from google.cloud.ml.applied.categories import category\n",
    "from google.cloud.ml.applied.model import domain_model as m\n",
    "from google.cloud.ml.applied.images import image_to_text\n",
    "from google.cloud.ml.applied.marketing import marketing"
   ]
  },
  {
   "cell_type": "markdown",
   "metadata": {},
   "source": [
    "## Generate Product Categories\n",
    "\n",
    "Based on any product description and (optional) image, we perform the following:\n",
    "\n",
    "* Create multimodal embeddings (text and image) from the input description and image\n",
    "* Perform nearest neighbor search on existing product catalog embeddings in Vertex Vector Search to fetch x nearest product ids\n",
    "* Lookup existing product categories from the retrieved ids.\n",
    "* Use an LLM to rank returned categories"
   ]
  },
  {
   "cell_type": "code",
   "execution_count": null,
   "metadata": {},
   "outputs": [],
   "source": [
    "category.retrieve_and_rank(\n",
    "    desc = \"Timewel 1100-N1949_S Analog Watch - For Women - Buy Timewel 1100-N1949_S Analog Watch - For Women 1100-N1949_S Online at Rs.855 in India Only at Flipkart.com. - Great Discounts, Only Genuine Products, 30 Day Replacement Guarantee, Free Shipping. Cash On Delivery!)\"\n",
    ")"
   ]
  },
  {
   "cell_type": "code",
   "execution_count": null,
   "metadata": {},
   "outputs": [],
   "source": [
    "category.retrieve_and_rank(\n",
    "    desc = \"Timewel 1100-N1949_S Analog Watch - For Women - Buy Timewel 1100-N1949_S Analog Watch - For Women 1100-N1949_S Online at Rs.855 in India Only at Flipkart.com. - Great Discounts, Only Genuine Products, 30 Day Replacement Guarantee, Free Shipping. Cash On Delivery!)\",\n",
    "    image = \"gs://genai-product-catalog/flipkart_20k_oct26/dbdac18a8ee5a8a48238b9685c96e90a_0.jpg\"\n",
    ")"
   ]
  },
  {
   "cell_type": "markdown",
   "metadata": {},
   "source": [
    "## Generate Product Attributes\n",
    "\n",
    "We utilize an LLM to generate product attributes to further enhance a product listing making it more effective for search and recommendations usecases.\n",
    "\n",
    "Using the same mechanism above, we can use a product description and an image to generate these attributes"
   ]
  },
  {
   "cell_type": "code",
   "execution_count": null,
   "metadata": {},
   "outputs": [],
   "source": [
    "attributes.retrieve_and_generate_attributes(\n",
    "    desc = \"Timewel 1100-N1949_S Analog Watch - For Women - Buy Timewel 1100-N1949_S Analog Watch - For Women 1100-N1949_S Online at Rs.855 in India Only at Flipkart.com. - Great Discounts, Only Genuine Products, 30 Day Replacement Guarantee, Free Shipping. Cash On Delivery!)\",\n",
    ")"
   ]
  },
  {
   "cell_type": "code",
   "execution_count": null,
   "metadata": {},
   "outputs": [],
   "source": [
    "product_attiributes = attributes.retrieve_and_generate_attributes(\n",
    "    desc = \"Timewel 1100-N1949_S Analog Watch - For Women - Buy Timewel 1100-N1949_S Analog Watch - For Women 1100-N1949_S Online at Rs.855 in India Only at Flipkart.com. - Great Discounts, Only Genuine Products, 30 Day Replacement Guarantee, Free Shipping. Cash On Delivery!)\",\n",
    "    image = \"gs://genai-product-catalog/flipkart_20k_oct26/dbdac18a8ee5a8a48238b9685c96e90a_0.jpg\"\n",
    ")\n",
    "product_attiributes"
   ]
  },
  {
   "cell_type": "markdown",
   "metadata": {},
   "source": [
    "## Generate Product Image Attributes\n",
    "We can also use an LVM to analyze a product image an extract product attributes"
   ]
  },
  {
   "cell_type": "code",
   "execution_count": null,
   "metadata": {},
   "outputs": [],
   "source": [
    "test_image = m.ImageRequest(image=\"gs://genai-product-catalog/flipkart_20k_oct26/dbdac18a8ee5a8a48238b9685c96e90a_0.jpg\")\n",
    "image_to_text.image_to_attributes(test_image)"
   ]
  },
  {
   "cell_type": "markdown",
   "metadata": {},
   "source": [
    "## Generate Marketing Description\n",
    "We use the product description as well as the above generated product attributes to generate a product marketing description"
   ]
  },
  {
   "cell_type": "code",
   "execution_count": null,
   "metadata": {},
   "outputs": [],
   "source": [
    "marketing_request = m.MarketingRequest(\n",
    "    description=\"Timewel 1100-N1949_S Analog Watch - For Women - Buy Timewel 1100-N1949_S Analog Watch - For Women 1100-N1949_S Online at Rs.855 in India Only at Flipkart.com. - Great Discounts, Only Genuine Products, 30 Day Replacement Guarantee, Free Shipping. Cash On Delivery!)\",\n",
    "    attributes=product_attiributes\n",
    ")\n",
    "\n",
    "marketing_copy = marketing.generate_marketing_copy(marketing_request)\n",
    "print(marketing_copy.text)"
   ]
  }
 ],
 "metadata": {
  "kernelspec": {
   "display_name": ".venv",
   "language": "python",
   "name": "python3"
  },
  "language_info": {
   "codemirror_mode": {
    "name": "ipython",
    "version": 3
   },
   "file_extension": ".py",
   "mimetype": "text/x-python",
   "name": "python",
   "nbconvert_exporter": "python",
   "pygments_lexer": "ipython3",
   "version": "3.11.7"
  }
 },
 "nbformat": 4,
 "nbformat_minor": 2
}
