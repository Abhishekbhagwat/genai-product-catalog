{
  "nbformat": 4,
  "nbformat_minor": 0,
  "metadata": {
    "colab": {
      "provenance": [],
      "toc_visible": true
    },
    "kernelspec": {
      "name": "python3",
      "display_name": "Python 3"
    },
    "language_info": {
      "name": "python"
    }
  },
  "cells": [
    {
      "cell_type": "markdown",
      "source": [
        "# Setup"
      ],
      "metadata": {
        "id": "TTQqvG0AGPs3"
      }
    },
    {
      "cell_type": "code",
      "execution_count": 2,
      "metadata": {
        "colab": {
          "base_uri": "https://localhost:8080/",
          "height": 723
        },
        "id": "VWvd7yr8FCjp",
        "outputId": "828447cf-9dda-4bf2-cc2b-c5986c6794c3"
      },
      "outputs": [
        {
          "output_type": "stream",
          "name": "stdout",
          "text": [
            "Collecting google-cloud-aiplatform\n",
            "  Downloading google_cloud_aiplatform-1.36.4-py2.py3-none-any.whl (3.3 MB)\n",
            "\u001b[2K     \u001b[90m━━━━━━━━━━━━━━━━━━━━━━━━━━━━━━━━━━━━━━━━\u001b[0m \u001b[32m3.3/3.3 MB\u001b[0m \u001b[31m30.4 MB/s\u001b[0m eta \u001b[36m0:00:00\u001b[0m\n",
            "\u001b[?25hRequirement already satisfied: google-api-core[grpc]!=2.0.*,!=2.1.*,!=2.2.*,!=2.3.*,!=2.4.*,!=2.5.*,!=2.6.*,!=2.7.*,<3.0.0dev,>=1.32.0 in /usr/local/lib/python3.10/dist-packages (from google-cloud-aiplatform) (2.11.1)\n",
            "Requirement already satisfied: proto-plus<2.0.0dev,>=1.22.0 in /usr/local/lib/python3.10/dist-packages (from google-cloud-aiplatform) (1.22.3)\n",
            "Requirement already satisfied: protobuf!=3.20.0,!=3.20.1,!=4.21.0,!=4.21.1,!=4.21.2,!=4.21.3,!=4.21.4,!=4.21.5,<5.0.0dev,>=3.19.5 in /usr/local/lib/python3.10/dist-packages (from google-cloud-aiplatform) (3.20.3)\n",
            "Requirement already satisfied: packaging>=14.3 in /usr/local/lib/python3.10/dist-packages (from google-cloud-aiplatform) (23.2)\n",
            "Requirement already satisfied: google-cloud-storage<3.0.0dev,>=1.32.0 in /usr/local/lib/python3.10/dist-packages (from google-cloud-aiplatform) (2.8.0)\n",
            "Requirement already satisfied: google-cloud-bigquery<4.0.0dev,>=1.15.0 in /usr/local/lib/python3.10/dist-packages (from google-cloud-aiplatform) (3.12.0)\n",
            "Requirement already satisfied: google-cloud-resource-manager<3.0.0dev,>=1.3.3 in /usr/local/lib/python3.10/dist-packages (from google-cloud-aiplatform) (1.10.4)\n",
            "Requirement already satisfied: shapely<3.0.0dev in /usr/local/lib/python3.10/dist-packages (from google-cloud-aiplatform) (2.0.2)\n",
            "Requirement already satisfied: googleapis-common-protos<2.0.dev0,>=1.56.2 in /usr/local/lib/python3.10/dist-packages (from google-api-core[grpc]!=2.0.*,!=2.1.*,!=2.2.*,!=2.3.*,!=2.4.*,!=2.5.*,!=2.6.*,!=2.7.*,<3.0.0dev,>=1.32.0->google-cloud-aiplatform) (1.61.0)\n",
            "Requirement already satisfied: google-auth<3.0.dev0,>=2.14.1 in /usr/local/lib/python3.10/dist-packages (from google-api-core[grpc]!=2.0.*,!=2.1.*,!=2.2.*,!=2.3.*,!=2.4.*,!=2.5.*,!=2.6.*,!=2.7.*,<3.0.0dev,>=1.32.0->google-cloud-aiplatform) (2.17.3)\n",
            "Requirement already satisfied: requests<3.0.0.dev0,>=2.18.0 in /usr/local/lib/python3.10/dist-packages (from google-api-core[grpc]!=2.0.*,!=2.1.*,!=2.2.*,!=2.3.*,!=2.4.*,!=2.5.*,!=2.6.*,!=2.7.*,<3.0.0dev,>=1.32.0->google-cloud-aiplatform) (2.31.0)\n",
            "Requirement already satisfied: grpcio<2.0dev,>=1.33.2 in /usr/local/lib/python3.10/dist-packages (from google-api-core[grpc]!=2.0.*,!=2.1.*,!=2.2.*,!=2.3.*,!=2.4.*,!=2.5.*,!=2.6.*,!=2.7.*,<3.0.0dev,>=1.32.0->google-cloud-aiplatform) (1.59.2)\n",
            "Requirement already satisfied: grpcio-status<2.0.dev0,>=1.33.2 in /usr/local/lib/python3.10/dist-packages (from google-api-core[grpc]!=2.0.*,!=2.1.*,!=2.2.*,!=2.3.*,!=2.4.*,!=2.5.*,!=2.6.*,!=2.7.*,<3.0.0dev,>=1.32.0->google-cloud-aiplatform) (1.48.2)\n",
            "Requirement already satisfied: google-cloud-core<3.0.0dev,>=1.6.0 in /usr/local/lib/python3.10/dist-packages (from google-cloud-bigquery<4.0.0dev,>=1.15.0->google-cloud-aiplatform) (2.3.3)\n",
            "Requirement already satisfied: google-resumable-media<3.0dev,>=0.6.0 in /usr/local/lib/python3.10/dist-packages (from google-cloud-bigquery<4.0.0dev,>=1.15.0->google-cloud-aiplatform) (2.6.0)\n",
            "Requirement already satisfied: python-dateutil<3.0dev,>=2.7.2 in /usr/local/lib/python3.10/dist-packages (from google-cloud-bigquery<4.0.0dev,>=1.15.0->google-cloud-aiplatform) (2.8.2)\n",
            "Requirement already satisfied: grpc-google-iam-v1<1.0.0dev,>=0.12.4 in /usr/local/lib/python3.10/dist-packages (from google-cloud-resource-manager<3.0.0dev,>=1.3.3->google-cloud-aiplatform) (0.12.7)\n",
            "Requirement already satisfied: numpy>=1.14 in /usr/local/lib/python3.10/dist-packages (from shapely<3.0.0dev->google-cloud-aiplatform) (1.23.5)\n",
            "Requirement already satisfied: cachetools<6.0,>=2.0.0 in /usr/local/lib/python3.10/dist-packages (from google-auth<3.0.dev0,>=2.14.1->google-api-core[grpc]!=2.0.*,!=2.1.*,!=2.2.*,!=2.3.*,!=2.4.*,!=2.5.*,!=2.6.*,!=2.7.*,<3.0.0dev,>=1.32.0->google-cloud-aiplatform) (5.3.2)\n",
            "Requirement already satisfied: pyasn1-modules>=0.2.1 in /usr/local/lib/python3.10/dist-packages (from google-auth<3.0.dev0,>=2.14.1->google-api-core[grpc]!=2.0.*,!=2.1.*,!=2.2.*,!=2.3.*,!=2.4.*,!=2.5.*,!=2.6.*,!=2.7.*,<3.0.0dev,>=1.32.0->google-cloud-aiplatform) (0.3.0)\n",
            "Requirement already satisfied: six>=1.9.0 in /usr/local/lib/python3.10/dist-packages (from google-auth<3.0.dev0,>=2.14.1->google-api-core[grpc]!=2.0.*,!=2.1.*,!=2.2.*,!=2.3.*,!=2.4.*,!=2.5.*,!=2.6.*,!=2.7.*,<3.0.0dev,>=1.32.0->google-cloud-aiplatform) (1.16.0)\n",
            "Requirement already satisfied: rsa<5,>=3.1.4 in /usr/local/lib/python3.10/dist-packages (from google-auth<3.0.dev0,>=2.14.1->google-api-core[grpc]!=2.0.*,!=2.1.*,!=2.2.*,!=2.3.*,!=2.4.*,!=2.5.*,!=2.6.*,!=2.7.*,<3.0.0dev,>=1.32.0->google-cloud-aiplatform) (4.9)\n",
            "Requirement already satisfied: google-crc32c<2.0dev,>=1.0 in /usr/local/lib/python3.10/dist-packages (from google-resumable-media<3.0dev,>=0.6.0->google-cloud-bigquery<4.0.0dev,>=1.15.0->google-cloud-aiplatform) (1.5.0)\n",
            "Requirement already satisfied: charset-normalizer<4,>=2 in /usr/local/lib/python3.10/dist-packages (from requests<3.0.0.dev0,>=2.18.0->google-api-core[grpc]!=2.0.*,!=2.1.*,!=2.2.*,!=2.3.*,!=2.4.*,!=2.5.*,!=2.6.*,!=2.7.*,<3.0.0dev,>=1.32.0->google-cloud-aiplatform) (3.3.2)\n",
            "Requirement already satisfied: idna<4,>=2.5 in /usr/local/lib/python3.10/dist-packages (from requests<3.0.0.dev0,>=2.18.0->google-api-core[grpc]!=2.0.*,!=2.1.*,!=2.2.*,!=2.3.*,!=2.4.*,!=2.5.*,!=2.6.*,!=2.7.*,<3.0.0dev,>=1.32.0->google-cloud-aiplatform) (3.4)\n",
            "Requirement already satisfied: urllib3<3,>=1.21.1 in /usr/local/lib/python3.10/dist-packages (from requests<3.0.0.dev0,>=2.18.0->google-api-core[grpc]!=2.0.*,!=2.1.*,!=2.2.*,!=2.3.*,!=2.4.*,!=2.5.*,!=2.6.*,!=2.7.*,<3.0.0dev,>=1.32.0->google-cloud-aiplatform) (2.0.7)\n",
            "Requirement already satisfied: certifi>=2017.4.17 in /usr/local/lib/python3.10/dist-packages (from requests<3.0.0.dev0,>=2.18.0->google-api-core[grpc]!=2.0.*,!=2.1.*,!=2.2.*,!=2.3.*,!=2.4.*,!=2.5.*,!=2.6.*,!=2.7.*,<3.0.0dev,>=1.32.0->google-cloud-aiplatform) (2023.7.22)\n",
            "Requirement already satisfied: pyasn1<0.6.0,>=0.4.6 in /usr/local/lib/python3.10/dist-packages (from pyasn1-modules>=0.2.1->google-auth<3.0.dev0,>=2.14.1->google-api-core[grpc]!=2.0.*,!=2.1.*,!=2.2.*,!=2.3.*,!=2.4.*,!=2.5.*,!=2.6.*,!=2.7.*,<3.0.0dev,>=1.32.0->google-cloud-aiplatform) (0.5.0)\n",
            "Installing collected packages: google-cloud-aiplatform\n",
            "Successfully installed google-cloud-aiplatform-1.36.4\n"
          ]
        },
        {
          "output_type": "display_data",
          "data": {
            "application/vnd.colab-display-data+json": {
              "pip_warning": {
                "packages": [
                  "google"
                ]
              }
            }
          },
          "metadata": {}
        }
      ],
      "source": [
        "!pip install google-cloud-aiplatform"
      ]
    },
    {
      "cell_type": "code",
      "source": [
        "import sys\n",
        "\n",
        "if 'google.colab' in sys.modules:\n",
        "    from google.colab import auth as google_auth\n",
        "    google_auth.authenticate_user()"
      ],
      "metadata": {
        "id": "Y2ctmHIXFnKf"
      },
      "execution_count": 1,
      "outputs": []
    },
    {
      "cell_type": "code",
      "source": [
        "PROJECT_ID = 'solutions-2023-mar-107' # @param {type:\"string\"}\n",
        "REGION = 'us-central1' # @param {type:\"string\"}\n",
        "#BUCKET_URI = \"gs://vector_search_regional/flipkart_multimodal_embeddings\" # @param {type:\"string\"} # WHERE EMBEDDINGS ARE STORED\n",
        "BUCKET_URI = 'gs://vector_search_regional/test_filterings'# @param {type:\"string\"}\n",
        "ENDPOINT = \"{}-aiplatform.googleapis.com\".format(REGION)"
      ],
      "metadata": {
        "id": "bbQ7ZhWBFtxE"
      },
      "execution_count": 2,
      "outputs": []
    },
    {
      "cell_type": "code",
      "source": [
        "from google.cloud import aiplatform\n",
        "aiplatform.init(project=PROJECT_ID, location=REGION, staging_bucket=BUCKET_URI)"
      ],
      "metadata": {
        "id": "K51CIxd3Fz4R"
      },
      "execution_count": 3,
      "outputs": []
    },
    {
      "cell_type": "markdown",
      "source": [
        "# Prepare Data"
      ],
      "metadata": {
        "id": "N1DGTU7ZGKbq"
      }
    },
    {
      "cell_type": "markdown",
      "source": [
        "Sample data in json format to add filters in category level:\n",
        "\n",
        "\n",
        "{\"id\": \"43_T”, \"embedding\": [0.6, 1.0],\n",
        "\"restricts\": [\n",
        "{\"namespace\": “L0”, \"allow\": c0_name },\n",
        "{“namespace\": “L1”, \"allow\": c1_name},\n",
        "{“namespace\": “L2”, \"allow\": c2_name},\n",
        "{“namespace\": “L3”, \"allow\": c3_name}\n",
        "]\n",
        "}\n",
        "\n",
        "\n",
        "{\"id\": \"43_I”, \"embedding\": [0.6, 1.0],\n",
        "\"restricts\": [\n",
        "{\"namespace\": “L0”, \"allow\": c0_name },\n",
        "{“namespace\": “L1”, \"allow\": c1_name},\n",
        "{“namespace\": “L2”, \"allow\": c2_name},\n",
        "{“namespace\": “L3”, \"allow\": c3_name}\n",
        "]\n",
        "}"
      ],
      "metadata": {
        "id": "8OAe65YgLZXN"
      }
    },
    {
      "cell_type": "code",
      "source": [
        "from google.cloud import bigquery\n",
        "client = bigquery.Client(PROJECT_ID)\n",
        "query_job = client.query(\"\"\"\n",
        "   SELECT *\n",
        "   FROM `flipkart.training_embeddings_with_cat_for_filtering`;\"\"\")\n",
        "\n",
        "results = query_job.result() # Wait for the job to complete."
      ],
      "metadata": {
        "id": "iz4row4rGNnS"
      },
      "execution_count": 4,
      "outputs": []
    },
    {
      "cell_type": "code",
      "source": [
        "data = results.to_dataframe()"
      ],
      "metadata": {
        "id": "cANUDACXV-o5"
      },
      "execution_count": 5,
      "outputs": []
    },
    {
      "cell_type": "code",
      "source": [
        "data"
      ],
      "metadata": {
        "colab": {
          "base_uri": "https://localhost:8080/",
          "height": 597
        },
        "id": "_0P2lv0yWBQo",
        "outputId": "1204d5ee-e6cf-4cf3-f08f-7c48cb40cf5e"
      },
      "execution_count": 6,
      "outputs": [
        {
          "output_type": "execute_result",
          "data": {
            "text/plain": [
              "                                       id  \\\n",
              "0      9f56d6e1481d35f9677a69a983aa81ee_T   \n",
              "1      efb5a934cefac9456baef772f5d97f52_T   \n",
              "2      abd4482126e006bd6f3ce9825e9449bc_T   \n",
              "3      635df3139a893577a21554cd4ace1f35_T   \n",
              "4      135524f18e0ac6e3d008fa81b1576dfa_T   \n",
              "...                                   ...   \n",
              "36369  dad7943c3791dfb2d669942e61dfc25d_I   \n",
              "36370  906b3a5912453ffced2dbd0fc4bd495c_I   \n",
              "36371  2fa79e6a06305fa2ea23a343841b78c3_I   \n",
              "36372  084ae0b12e0672abfc7f9d125bd1e15b_I   \n",
              "36373  41e4f374de77a7aef168ef0d8efc0db6_I   \n",
              "\n",
              "                                               embedding  \\\n",
              "0      [0.0305967834, -0.0117346784, -0.0113393087, -...   \n",
              "1      [0.017123403, -0.0647764653, 0.0103280917, 0.0...   \n",
              "2      [0.0181311239, -0.0240292437, 0.00982811209, -...   \n",
              "3      [0.0425712056, -0.0244968068, 0.00395903178, 0...   \n",
              "4      [-0.0492946468, -0.0495145917, 0.0119116539, -...   \n",
              "...                                                  ...   \n",
              "36369  [-0.00362257822, 0.0448172726, 0.0305924937, 0...   \n",
              "36370  [-0.013985265, 0.0400636345, 0.0220041461, -0....   \n",
              "36371  [-0.0203494355, 0.0481191799, 0.00561492844, -...   \n",
              "36372  [-0.0286370851, -0.0289862268, -0.00473337155,...   \n",
              "36373  [0.0256420579, -0.0192270577, -0.0200954657, 0...   \n",
              "\n",
              "                               L0                         L1  \\\n",
              "0                       Furniture              Pet Furniture   \n",
              "1                        Footwear           Women's Footwear   \n",
              "2           Mobiles & Accessories         Tablet Accessories   \n",
              "3           Mobiles & Accessories         Tablet Accessories   \n",
              "4                        Clothing           Women's Clothing   \n",
              "...                           ...                        ...   \n",
              "36369  Home Decor & Festive Needs                 Showpieces   \n",
              "36370                    Footwear           Women's Footwear   \n",
              "36371                    Clothing           Women's Clothing   \n",
              "36372                   Computers         Network Components   \n",
              "36373  Home Decor & Festive Needs  Table Decor & Handicrafts   \n",
              "\n",
              "                             L2                         L3  \n",
              "0                          None                       None  \n",
              "1      REMSON INDIA Women Flats                       None  \n",
              "2                Cases & Covers    MannMohh Cases & Covers  \n",
              "3                Cases & Covers  kasemantra Cases & Covers  \n",
              "4                  Western Wear      Shirts, Tops & Tunics  \n",
              "...                         ...                        ...  \n",
              "36369          Ona'S Showpieces                       None  \n",
              "36370              Casual Shoes                      Boots  \n",
              "36371              Western Wear      Shirts, Tops & Tunics  \n",
              "36372                   Routers              Onnet Routers  \n",
              "36373                Showpieces            Religious Idols  \n",
              "\n",
              "[36374 rows x 6 columns]"
            ],
            "text/html": [
              "\n",
              "  <div id=\"df-ce9f7191-e446-4f6d-9953-73c31db7b2f0\" class=\"colab-df-container\">\n",
              "    <div>\n",
              "<style scoped>\n",
              "    .dataframe tbody tr th:only-of-type {\n",
              "        vertical-align: middle;\n",
              "    }\n",
              "\n",
              "    .dataframe tbody tr th {\n",
              "        vertical-align: top;\n",
              "    }\n",
              "\n",
              "    .dataframe thead th {\n",
              "        text-align: right;\n",
              "    }\n",
              "</style>\n",
              "<table border=\"1\" class=\"dataframe\">\n",
              "  <thead>\n",
              "    <tr style=\"text-align: right;\">\n",
              "      <th></th>\n",
              "      <th>id</th>\n",
              "      <th>embedding</th>\n",
              "      <th>L0</th>\n",
              "      <th>L1</th>\n",
              "      <th>L2</th>\n",
              "      <th>L3</th>\n",
              "    </tr>\n",
              "  </thead>\n",
              "  <tbody>\n",
              "    <tr>\n",
              "      <th>0</th>\n",
              "      <td>9f56d6e1481d35f9677a69a983aa81ee_T</td>\n",
              "      <td>[0.0305967834, -0.0117346784, -0.0113393087, -...</td>\n",
              "      <td>Furniture</td>\n",
              "      <td>Pet Furniture</td>\n",
              "      <td>None</td>\n",
              "      <td>None</td>\n",
              "    </tr>\n",
              "    <tr>\n",
              "      <th>1</th>\n",
              "      <td>efb5a934cefac9456baef772f5d97f52_T</td>\n",
              "      <td>[0.017123403, -0.0647764653, 0.0103280917, 0.0...</td>\n",
              "      <td>Footwear</td>\n",
              "      <td>Women's Footwear</td>\n",
              "      <td>REMSON INDIA Women Flats</td>\n",
              "      <td>None</td>\n",
              "    </tr>\n",
              "    <tr>\n",
              "      <th>2</th>\n",
              "      <td>abd4482126e006bd6f3ce9825e9449bc_T</td>\n",
              "      <td>[0.0181311239, -0.0240292437, 0.00982811209, -...</td>\n",
              "      <td>Mobiles &amp; Accessories</td>\n",
              "      <td>Tablet Accessories</td>\n",
              "      <td>Cases &amp; Covers</td>\n",
              "      <td>MannMohh Cases &amp; Covers</td>\n",
              "    </tr>\n",
              "    <tr>\n",
              "      <th>3</th>\n",
              "      <td>635df3139a893577a21554cd4ace1f35_T</td>\n",
              "      <td>[0.0425712056, -0.0244968068, 0.00395903178, 0...</td>\n",
              "      <td>Mobiles &amp; Accessories</td>\n",
              "      <td>Tablet Accessories</td>\n",
              "      <td>Cases &amp; Covers</td>\n",
              "      <td>kasemantra Cases &amp; Covers</td>\n",
              "    </tr>\n",
              "    <tr>\n",
              "      <th>4</th>\n",
              "      <td>135524f18e0ac6e3d008fa81b1576dfa_T</td>\n",
              "      <td>[-0.0492946468, -0.0495145917, 0.0119116539, -...</td>\n",
              "      <td>Clothing</td>\n",
              "      <td>Women's Clothing</td>\n",
              "      <td>Western Wear</td>\n",
              "      <td>Shirts, Tops &amp; Tunics</td>\n",
              "    </tr>\n",
              "    <tr>\n",
              "      <th>...</th>\n",
              "      <td>...</td>\n",
              "      <td>...</td>\n",
              "      <td>...</td>\n",
              "      <td>...</td>\n",
              "      <td>...</td>\n",
              "      <td>...</td>\n",
              "    </tr>\n",
              "    <tr>\n",
              "      <th>36369</th>\n",
              "      <td>dad7943c3791dfb2d669942e61dfc25d_I</td>\n",
              "      <td>[-0.00362257822, 0.0448172726, 0.0305924937, 0...</td>\n",
              "      <td>Home Decor &amp; Festive Needs</td>\n",
              "      <td>Showpieces</td>\n",
              "      <td>Ona'S Showpieces</td>\n",
              "      <td>None</td>\n",
              "    </tr>\n",
              "    <tr>\n",
              "      <th>36370</th>\n",
              "      <td>906b3a5912453ffced2dbd0fc4bd495c_I</td>\n",
              "      <td>[-0.013985265, 0.0400636345, 0.0220041461, -0....</td>\n",
              "      <td>Footwear</td>\n",
              "      <td>Women's Footwear</td>\n",
              "      <td>Casual Shoes</td>\n",
              "      <td>Boots</td>\n",
              "    </tr>\n",
              "    <tr>\n",
              "      <th>36371</th>\n",
              "      <td>2fa79e6a06305fa2ea23a343841b78c3_I</td>\n",
              "      <td>[-0.0203494355, 0.0481191799, 0.00561492844, -...</td>\n",
              "      <td>Clothing</td>\n",
              "      <td>Women's Clothing</td>\n",
              "      <td>Western Wear</td>\n",
              "      <td>Shirts, Tops &amp; Tunics</td>\n",
              "    </tr>\n",
              "    <tr>\n",
              "      <th>36372</th>\n",
              "      <td>084ae0b12e0672abfc7f9d125bd1e15b_I</td>\n",
              "      <td>[-0.0286370851, -0.0289862268, -0.00473337155,...</td>\n",
              "      <td>Computers</td>\n",
              "      <td>Network Components</td>\n",
              "      <td>Routers</td>\n",
              "      <td>Onnet Routers</td>\n",
              "    </tr>\n",
              "    <tr>\n",
              "      <th>36373</th>\n",
              "      <td>41e4f374de77a7aef168ef0d8efc0db6_I</td>\n",
              "      <td>[0.0256420579, -0.0192270577, -0.0200954657, 0...</td>\n",
              "      <td>Home Decor &amp; Festive Needs</td>\n",
              "      <td>Table Decor &amp; Handicrafts</td>\n",
              "      <td>Showpieces</td>\n",
              "      <td>Religious Idols</td>\n",
              "    </tr>\n",
              "  </tbody>\n",
              "</table>\n",
              "<p>36374 rows × 6 columns</p>\n",
              "</div>\n",
              "    <div class=\"colab-df-buttons\">\n",
              "\n",
              "  <div class=\"colab-df-container\">\n",
              "    <button class=\"colab-df-convert\" onclick=\"convertToInteractive('df-ce9f7191-e446-4f6d-9953-73c31db7b2f0')\"\n",
              "            title=\"Convert this dataframe to an interactive table.\"\n",
              "            style=\"display:none;\">\n",
              "\n",
              "  <svg xmlns=\"http://www.w3.org/2000/svg\" height=\"24px\" viewBox=\"0 -960 960 960\">\n",
              "    <path d=\"M120-120v-720h720v720H120Zm60-500h600v-160H180v160Zm220 220h160v-160H400v160Zm0 220h160v-160H400v160ZM180-400h160v-160H180v160Zm440 0h160v-160H620v160ZM180-180h160v-160H180v160Zm440 0h160v-160H620v160Z\"/>\n",
              "  </svg>\n",
              "    </button>\n",
              "\n",
              "  <style>\n",
              "    .colab-df-container {\n",
              "      display:flex;\n",
              "      gap: 12px;\n",
              "    }\n",
              "\n",
              "    .colab-df-convert {\n",
              "      background-color: #E8F0FE;\n",
              "      border: none;\n",
              "      border-radius: 50%;\n",
              "      cursor: pointer;\n",
              "      display: none;\n",
              "      fill: #1967D2;\n",
              "      height: 32px;\n",
              "      padding: 0 0 0 0;\n",
              "      width: 32px;\n",
              "    }\n",
              "\n",
              "    .colab-df-convert:hover {\n",
              "      background-color: #E2EBFA;\n",
              "      box-shadow: 0px 1px 2px rgba(60, 64, 67, 0.3), 0px 1px 3px 1px rgba(60, 64, 67, 0.15);\n",
              "      fill: #174EA6;\n",
              "    }\n",
              "\n",
              "    .colab-df-buttons div {\n",
              "      margin-bottom: 4px;\n",
              "    }\n",
              "\n",
              "    [theme=dark] .colab-df-convert {\n",
              "      background-color: #3B4455;\n",
              "      fill: #D2E3FC;\n",
              "    }\n",
              "\n",
              "    [theme=dark] .colab-df-convert:hover {\n",
              "      background-color: #434B5C;\n",
              "      box-shadow: 0px 1px 3px 1px rgba(0, 0, 0, 0.15);\n",
              "      filter: drop-shadow(0px 1px 2px rgba(0, 0, 0, 0.3));\n",
              "      fill: #FFFFFF;\n",
              "    }\n",
              "  </style>\n",
              "\n",
              "    <script>\n",
              "      const buttonEl =\n",
              "        document.querySelector('#df-ce9f7191-e446-4f6d-9953-73c31db7b2f0 button.colab-df-convert');\n",
              "      buttonEl.style.display =\n",
              "        google.colab.kernel.accessAllowed ? 'block' : 'none';\n",
              "\n",
              "      async function convertToInteractive(key) {\n",
              "        const element = document.querySelector('#df-ce9f7191-e446-4f6d-9953-73c31db7b2f0');\n",
              "        const dataTable =\n",
              "          await google.colab.kernel.invokeFunction('convertToInteractive',\n",
              "                                                    [key], {});\n",
              "        if (!dataTable) return;\n",
              "\n",
              "        const docLinkHtml = 'Like what you see? Visit the ' +\n",
              "          '<a target=\"_blank\" href=https://colab.research.google.com/notebooks/data_table.ipynb>data table notebook</a>'\n",
              "          + ' to learn more about interactive tables.';\n",
              "        element.innerHTML = '';\n",
              "        dataTable['output_type'] = 'display_data';\n",
              "        await google.colab.output.renderOutput(dataTable, element);\n",
              "        const docLink = document.createElement('div');\n",
              "        docLink.innerHTML = docLinkHtml;\n",
              "        element.appendChild(docLink);\n",
              "      }\n",
              "    </script>\n",
              "  </div>\n",
              "\n",
              "\n",
              "<div id=\"df-aa8ba746-250e-43e6-bbc5-19f959a79197\">\n",
              "  <button class=\"colab-df-quickchart\" onclick=\"quickchart('df-aa8ba746-250e-43e6-bbc5-19f959a79197')\"\n",
              "            title=\"Suggest charts\"\n",
              "            style=\"display:none;\">\n",
              "\n",
              "<svg xmlns=\"http://www.w3.org/2000/svg\" height=\"24px\"viewBox=\"0 0 24 24\"\n",
              "     width=\"24px\">\n",
              "    <g>\n",
              "        <path d=\"M19 3H5c-1.1 0-2 .9-2 2v14c0 1.1.9 2 2 2h14c1.1 0 2-.9 2-2V5c0-1.1-.9-2-2-2zM9 17H7v-7h2v7zm4 0h-2V7h2v10zm4 0h-2v-4h2v4z\"/>\n",
              "    </g>\n",
              "</svg>\n",
              "  </button>\n",
              "\n",
              "<style>\n",
              "  .colab-df-quickchart {\n",
              "      --bg-color: #E8F0FE;\n",
              "      --fill-color: #1967D2;\n",
              "      --hover-bg-color: #E2EBFA;\n",
              "      --hover-fill-color: #174EA6;\n",
              "      --disabled-fill-color: #AAA;\n",
              "      --disabled-bg-color: #DDD;\n",
              "  }\n",
              "\n",
              "  [theme=dark] .colab-df-quickchart {\n",
              "      --bg-color: #3B4455;\n",
              "      --fill-color: #D2E3FC;\n",
              "      --hover-bg-color: #434B5C;\n",
              "      --hover-fill-color: #FFFFFF;\n",
              "      --disabled-bg-color: #3B4455;\n",
              "      --disabled-fill-color: #666;\n",
              "  }\n",
              "\n",
              "  .colab-df-quickchart {\n",
              "    background-color: var(--bg-color);\n",
              "    border: none;\n",
              "    border-radius: 50%;\n",
              "    cursor: pointer;\n",
              "    display: none;\n",
              "    fill: var(--fill-color);\n",
              "    height: 32px;\n",
              "    padding: 0;\n",
              "    width: 32px;\n",
              "  }\n",
              "\n",
              "  .colab-df-quickchart:hover {\n",
              "    background-color: var(--hover-bg-color);\n",
              "    box-shadow: 0 1px 2px rgba(60, 64, 67, 0.3), 0 1px 3px 1px rgba(60, 64, 67, 0.15);\n",
              "    fill: var(--button-hover-fill-color);\n",
              "  }\n",
              "\n",
              "  .colab-df-quickchart-complete:disabled,\n",
              "  .colab-df-quickchart-complete:disabled:hover {\n",
              "    background-color: var(--disabled-bg-color);\n",
              "    fill: var(--disabled-fill-color);\n",
              "    box-shadow: none;\n",
              "  }\n",
              "\n",
              "  .colab-df-spinner {\n",
              "    border: 2px solid var(--fill-color);\n",
              "    border-color: transparent;\n",
              "    border-bottom-color: var(--fill-color);\n",
              "    animation:\n",
              "      spin 1s steps(1) infinite;\n",
              "  }\n",
              "\n",
              "  @keyframes spin {\n",
              "    0% {\n",
              "      border-color: transparent;\n",
              "      border-bottom-color: var(--fill-color);\n",
              "      border-left-color: var(--fill-color);\n",
              "    }\n",
              "    20% {\n",
              "      border-color: transparent;\n",
              "      border-left-color: var(--fill-color);\n",
              "      border-top-color: var(--fill-color);\n",
              "    }\n",
              "    30% {\n",
              "      border-color: transparent;\n",
              "      border-left-color: var(--fill-color);\n",
              "      border-top-color: var(--fill-color);\n",
              "      border-right-color: var(--fill-color);\n",
              "    }\n",
              "    40% {\n",
              "      border-color: transparent;\n",
              "      border-right-color: var(--fill-color);\n",
              "      border-top-color: var(--fill-color);\n",
              "    }\n",
              "    60% {\n",
              "      border-color: transparent;\n",
              "      border-right-color: var(--fill-color);\n",
              "    }\n",
              "    80% {\n",
              "      border-color: transparent;\n",
              "      border-right-color: var(--fill-color);\n",
              "      border-bottom-color: var(--fill-color);\n",
              "    }\n",
              "    90% {\n",
              "      border-color: transparent;\n",
              "      border-bottom-color: var(--fill-color);\n",
              "    }\n",
              "  }\n",
              "</style>\n",
              "\n",
              "  <script>\n",
              "    async function quickchart(key) {\n",
              "      const quickchartButtonEl =\n",
              "        document.querySelector('#' + key + ' button');\n",
              "      quickchartButtonEl.disabled = true;  // To prevent multiple clicks.\n",
              "      quickchartButtonEl.classList.add('colab-df-spinner');\n",
              "      try {\n",
              "        const charts = await google.colab.kernel.invokeFunction(\n",
              "            'suggestCharts', [key], {});\n",
              "      } catch (error) {\n",
              "        console.error('Error during call to suggestCharts:', error);\n",
              "      }\n",
              "      quickchartButtonEl.classList.remove('colab-df-spinner');\n",
              "      quickchartButtonEl.classList.add('colab-df-quickchart-complete');\n",
              "    }\n",
              "    (() => {\n",
              "      let quickchartButtonEl =\n",
              "        document.querySelector('#df-aa8ba746-250e-43e6-bbc5-19f959a79197 button');\n",
              "      quickchartButtonEl.style.display =\n",
              "        google.colab.kernel.accessAllowed ? 'block' : 'none';\n",
              "    })();\n",
              "  </script>\n",
              "</div>\n",
              "\n",
              "  <div id=\"id_bb987fa1-d5d1-4d11-adec-1603d9f0a809\">\n",
              "    <style>\n",
              "      .colab-df-generate {\n",
              "        background-color: #E8F0FE;\n",
              "        border: none;\n",
              "        border-radius: 50%;\n",
              "        cursor: pointer;\n",
              "        display: none;\n",
              "        fill: #1967D2;\n",
              "        height: 32px;\n",
              "        padding: 0 0 0 0;\n",
              "        width: 32px;\n",
              "      }\n",
              "\n",
              "      .colab-df-generate:hover {\n",
              "        background-color: #E2EBFA;\n",
              "        box-shadow: 0px 1px 2px rgba(60, 64, 67, 0.3), 0px 1px 3px 1px rgba(60, 64, 67, 0.15);\n",
              "        fill: #174EA6;\n",
              "      }\n",
              "\n",
              "      [theme=dark] .colab-df-generate {\n",
              "        background-color: #3B4455;\n",
              "        fill: #D2E3FC;\n",
              "      }\n",
              "\n",
              "      [theme=dark] .colab-df-generate:hover {\n",
              "        background-color: #434B5C;\n",
              "        box-shadow: 0px 1px 3px 1px rgba(0, 0, 0, 0.15);\n",
              "        filter: drop-shadow(0px 1px 2px rgba(0, 0, 0, 0.3));\n",
              "        fill: #FFFFFF;\n",
              "      }\n",
              "    </style>\n",
              "    <button class=\"colab-df-generate\" onclick=\"generateWithVariable('data')\"\n",
              "            title=\"Generate code using this dataframe.\"\n",
              "            style=\"display:none;\">\n",
              "\n",
              "  <svg xmlns=\"http://www.w3.org/2000/svg\" height=\"24px\"viewBox=\"0 0 24 24\"\n",
              "       width=\"24px\">\n",
              "    <path d=\"M7,19H8.4L18.45,9,17,7.55,7,17.6ZM5,21V16.75L18.45,3.32a2,2,0,0,1,2.83,0l1.4,1.43a1.91,1.91,0,0,1,.58,1.4,1.91,1.91,0,0,1-.58,1.4L9.25,21ZM18.45,9,17,7.55Zm-12,3A5.31,5.31,0,0,0,4.9,8.1,5.31,5.31,0,0,0,1,6.5,5.31,5.31,0,0,0,4.9,4.9,5.31,5.31,0,0,0,6.5,1,5.31,5.31,0,0,0,8.1,4.9,5.31,5.31,0,0,0,12,6.5,5.46,5.46,0,0,0,6.5,12Z\"/>\n",
              "  </svg>\n",
              "    </button>\n",
              "    <script>\n",
              "      (() => {\n",
              "      const buttonEl =\n",
              "        document.querySelector('#id_bb987fa1-d5d1-4d11-adec-1603d9f0a809 button.colab-df-generate');\n",
              "      buttonEl.style.display =\n",
              "        google.colab.kernel.accessAllowed ? 'block' : 'none';\n",
              "\n",
              "      buttonEl.onclick = () => {\n",
              "        google.colab.notebook.generateWithVariable('data');\n",
              "      }\n",
              "      })();\n",
              "    </script>\n",
              "  </div>\n",
              "\n",
              "    </div>\n",
              "  </div>\n"
            ],
            "application/vnd.google.colaboratory.intrinsic+json": {
              "type": "dataframe",
              "variable_name": "data"
            }
          },
          "metadata": {},
          "execution_count": 6
        }
      ]
    },
    {
      "cell_type": "code",
      "source": [
        "def adding_filters(data):\n",
        "\n",
        "  restricts = []\n",
        "\n",
        "  def add_restricts(col_name):\n",
        "    namespace = col_name\n",
        "    allow = []\n",
        "    allow.append(data[col_name])\n",
        "    restricts.append({'namespace': namespace, 'allow': allow})\n",
        "\n",
        "  if data['L0']:\n",
        "    add_restricts('L0')\n",
        "    if data['L1']:\n",
        "      add_restricts('L1')\n",
        "      if data['L2']:\n",
        "        add_restricts('L2')\n",
        "        if data['L3']:\n",
        "          add_restricts('L3')\n",
        "\n",
        "  data['restricts']= restricts\n",
        "  return data\n",
        "\n",
        "\n",
        "data = data.apply(adding_filters, axis=1)"
      ],
      "metadata": {
        "id": "JLCiI6z9XrCy"
      },
      "execution_count": 69,
      "outputs": []
    },
    {
      "cell_type": "code",
      "source": [
        "import json\n",
        "\n",
        "data[['id','embedding','restricts']].to_json('sample.json', orient='records', lines=True)"
      ],
      "metadata": {
        "id": "T0cuMkA-adDK"
      },
      "execution_count": 70,
      "outputs": []
    },
    {
      "cell_type": "code",
      "source": [
        "#Upload json into GCS\n",
        "!gsutil cp -r sample.json gs://vector_search_regional/test_filterings"
      ],
      "metadata": {
        "colab": {
          "base_uri": "https://localhost:8080/"
        },
        "id": "1GvRB-50aDmI",
        "outputId": "e3d685a2-a485-4274-cac9-dfcaccc47a9b"
      },
      "execution_count": 71,
      "outputs": [
        {
          "output_type": "stream",
          "name": "stdout",
          "text": [
            "Copying file://sample.json [Content-Type=application/json]...\n",
            "/ [0 files][    0.0 B/658.0 MiB]                                                \r==> NOTE: You are uploading one or more large file(s), which would run\n",
            "significantly faster if you enable parallel composite uploads. This\n",
            "feature can be enabled by editing the\n",
            "\"parallel_composite_upload_threshold\" value in your .boto\n",
            "configuration file. However, note that if you do this large files will\n",
            "be uploaded as `composite objects\n",
            "<https://cloud.google.com/storage/docs/composite-objects>`_,which\n",
            "means that any user who downloads such objects will need to have a\n",
            "compiled crcmod installed (see \"gsutil help crcmod\"). This is because\n",
            "without a compiled crcmod, computing checksums on composite objects is\n",
            "so slow that gsutil disables downloads of composite objects.\n",
            "\n",
            "- [1 files][658.0 MiB/658.0 MiB]   46.1 MiB/s                                   \n",
            "Operation completed over 1 objects/658.0 MiB.                                    \n"
          ]
        }
      ]
    },
    {
      "cell_type": "code",
      "source": [
        "BUCKET_URI"
      ],
      "metadata": {
        "colab": {
          "base_uri": "https://localhost:8080/",
          "height": 35
        },
        "id": "C5rNhg0T2q2P",
        "outputId": "3b244a48-a9ec-408a-87b0-11d2594d9d10"
      },
      "execution_count": 72,
      "outputs": [
        {
          "output_type": "execute_result",
          "data": {
            "text/plain": [
              "'gs://vector_search_regional/test_filterings'"
            ],
            "application/vnd.google.colaboratory.intrinsic+json": {
              "type": "string"
            }
          },
          "metadata": {},
          "execution_count": 72
        }
      ]
    },
    {
      "cell_type": "markdown",
      "source": [
        "# Create Batch index with sample data"
      ],
      "metadata": {
        "id": "UeCfhkrTjxAi"
      }
    },
    {
      "cell_type": "code",
      "source": [
        "tree_ah_index = aiplatform.MatchingEngineIndex.create_tree_ah_index(\n",
        "    display_name='flipkart_batch_filtering',\n",
        "    contents_delta_uri=BUCKET_URI,\n",
        "    dimensions=1408,\n",
        "    approximate_neighbors_count=150,\n",
        "    distance_measure_type=\"COSINE_DISTANCE\",\n",
        "    leaf_node_embedding_count=500,\n",
        "    leaf_nodes_to_search_percent=7,\n",
        "    description='batch_filtering_test',\n",
        ")\n",
        "\n",
        "INDEX_RESOURCE_NAME = tree_ah_index.resource_name\n",
        "print(INDEX_RESOURCE_NAME)\n",
        "\n",
        "tree_ah_index = aiplatform.MatchingEngineIndex(index_name=INDEX_RESOURCE_NAME)"
      ],
      "metadata": {
        "colab": {
          "base_uri": "https://localhost:8080/"
        },
        "id": "CKkVWPUXkGpv",
        "outputId": "aba374fc-8afa-481a-adeb-91c09c6a0bd3"
      },
      "execution_count": 73,
      "outputs": [
        {
          "output_type": "stream",
          "name": "stderr",
          "text": [
            "INFO:google.cloud.aiplatform.matching_engine.matching_engine_index:Creating MatchingEngineIndex\n",
            "INFO:google.cloud.aiplatform.matching_engine.matching_engine_index:Create MatchingEngineIndex backing LRO: projects/411826505131/locations/us-central1/indexes/4261605914190020608/operations/2181313902799749120\n",
            "INFO:google.cloud.aiplatform.matching_engine.matching_engine_index:MatchingEngineIndex created. Resource name: projects/411826505131/locations/us-central1/indexes/4261605914190020608\n",
            "INFO:google.cloud.aiplatform.matching_engine.matching_engine_index:To use this MatchingEngineIndex in another session:\n",
            "INFO:google.cloud.aiplatform.matching_engine.matching_engine_index:index = aiplatform.MatchingEngineIndex('projects/411826505131/locations/us-central1/indexes/4261605914190020608')\n"
          ]
        },
        {
          "output_type": "stream",
          "name": "stdout",
          "text": [
            "projects/411826505131/locations/us-central1/indexes/4261605914190020608\n"
          ]
        }
      ]
    },
    {
      "cell_type": "code",
      "source": [
        "tree_ah_index = aiplatform.MatchingEngineIndex(index_name=INDEX_RESOURCE_NAME)"
      ],
      "metadata": {
        "id": "odcTBWBizsIS"
      },
      "execution_count": null,
      "outputs": []
    },
    {
      "cell_type": "code",
      "source": [
        "INDEX_RESOURCE_NAME = 'flipkart_batch_filtering'\n",
        "tree_ah_index = aiplatform.MatchingEngineIndex(index_name='4261605914190020608')"
      ],
      "metadata": {
        "id": "IfqK_0e41uxu"
      },
      "execution_count": 9,
      "outputs": []
    },
    {
      "cell_type": "markdown",
      "source": [
        "##Deploy Batch index"
      ],
      "metadata": {
        "id": "Yw3w7L8AxoJg"
      }
    },
    {
      "cell_type": "code",
      "source": [
        "my_index_endpoint = aiplatform.MatchingEngineIndexEndpoint.create(\n",
        "    display_name='flipkart_batch_filtering_endpoint',\n",
        "    description='Endpoint for flipkart_batch_filtering',\n",
        "    public_endpoint_enabled=True,\n",
        ")\n",
        "\n",
        "\n",
        "DEPLOYED_INDEX_ID = 'flipkart_batch_filtering'\n",
        "my_index_endpoint = my_index_endpoint.deploy_index(\n",
        "    index=tree_ah_index, deployed_index_id=DEPLOYED_INDEX_ID\n",
        ")\n",
        "my_index_endpoint.deployed_indexes"
      ],
      "metadata": {
        "colab": {
          "base_uri": "https://localhost:8080/"
        },
        "id": "jAan224jxva5",
        "outputId": "dc9a484a-a06a-4c3c-b966-85112cb63419"
      },
      "execution_count": 10,
      "outputs": [
        {
          "output_type": "stream",
          "name": "stderr",
          "text": [
            "INFO:google.cloud.aiplatform.matching_engine.matching_engine_index_endpoint:Creating MatchingEngineIndexEndpoint\n",
            "INFO:google.cloud.aiplatform.matching_engine.matching_engine_index_endpoint:Create MatchingEngineIndexEndpoint backing LRO: projects/411826505131/locations/us-central1/indexEndpoints/4149015923505758208/operations/5059888120875450368\n",
            "INFO:google.cloud.aiplatform.matching_engine.matching_engine_index_endpoint:MatchingEngineIndexEndpoint created. Resource name: projects/411826505131/locations/us-central1/indexEndpoints/4149015923505758208\n",
            "INFO:google.cloud.aiplatform.matching_engine.matching_engine_index_endpoint:To use this MatchingEngineIndexEndpoint in another session:\n",
            "INFO:google.cloud.aiplatform.matching_engine.matching_engine_index_endpoint:index_endpoint = aiplatform.MatchingEngineIndexEndpoint('projects/411826505131/locations/us-central1/indexEndpoints/4149015923505758208')\n",
            "INFO:google.cloud.aiplatform.matching_engine.matching_engine_index_endpoint:Deploying index MatchingEngineIndexEndpoint index_endpoint: projects/411826505131/locations/us-central1/indexEndpoints/4149015923505758208\n",
            "INFO:google.cloud.aiplatform.matching_engine.matching_engine_index_endpoint:Deploy index MatchingEngineIndexEndpoint index_endpoint backing LRO: projects/411826505131/locations/us-central1/indexEndpoints/4149015923505758208/operations/1595494107520696320\n",
            "INFO:google.cloud.aiplatform.matching_engine.matching_engine_index_endpoint:MatchingEngineIndexEndpoint index_endpoint Deployed index. Resource name: projects/411826505131/locations/us-central1/indexEndpoints/4149015923505758208\n"
          ]
        },
        {
          "output_type": "execute_result",
          "data": {
            "text/plain": [
              "[id: \"flipkart_batch_filtering\"\n",
              "index: \"projects/411826505131/locations/us-central1/indexes/4261605914190020608\"\n",
              "create_time {\n",
              "  seconds: 1701274228\n",
              "  nanos: 60348000\n",
              "}\n",
              "index_sync_time {\n",
              "  seconds: 1701275740\n",
              "  nanos: 50557000\n",
              "}\n",
              "automatic_resources {\n",
              "  min_replica_count: 2\n",
              "  max_replica_count: 2\n",
              "}\n",
              "deployment_group: \"default\"\n",
              "]"
            ]
          },
          "metadata": {},
          "execution_count": 10
        }
      ]
    },
    {
      "cell_type": "markdown",
      "source": [
        "## Query Batch index"
      ],
      "metadata": {
        "id": "pez4YPGl8dsa"
      }
    },
    {
      "cell_type": "code",
      "source": [
        "import base64\n",
        "from google.cloud import aiplatform\n",
        "from google.protobuf import struct_pb2\n",
        "from functools import cache\n",
        "import time\n",
        "import typing\n",
        "\n",
        "\n",
        "# Inspired from https://stackoverflow.com/questions/34269772/type-hints-in-namedtuple.\n",
        "class EmbeddingResponse(typing.NamedTuple):\n",
        "  text_embedding: typing.Sequence[float]\n",
        "  image_embedding: typing.Sequence[float]\n",
        "\n",
        "\n",
        "class EmbeddingPredictionClient:\n",
        "  \"\"\"Wrapper around Prediction Service Client.\"\"\"\n",
        "  def __init__(self, project : str,\n",
        "    location : str = \"us-central1\",\n",
        "    api_regional_endpoint: str = \"us-central1-aiplatform.googleapis.com\"):\n",
        "    client_options = {\"api_endpoint\": api_regional_endpoint}\n",
        "    # Initialize client that will be used to create and send requests.\n",
        "    # This client only needs to be created once, and can be reused for multiple requests.\n",
        "    self.client = aiplatform.gapic.PredictionServiceClient(client_options=client_options)\n",
        "    self.location = location\n",
        "    self.project = project\n",
        "\n",
        "  def get_embedding(self, text : str = None, image_path : str = None):\n",
        "    \"\"\"image_path can be a local path or a GCS URI.\"\"\"\n",
        "    if not text and not image_path:\n",
        "      raise ValueError('At least one of text or image_bytes must be specified.')\n",
        "\n",
        "    instance = struct_pb2.Struct()\n",
        "    if text:\n",
        "      instance.fields['text'].string_value = text\n",
        "\n",
        "    if image_path:\n",
        "      image_struct = instance.fields['image'].struct_value\n",
        "      if image_path.lower().startswith('gs://'):\n",
        "        image_struct.fields['gcsUri'].string_value = image_path\n",
        "      else:\n",
        "        with open(image_path, \"rb\") as f:\n",
        "          image_bytes = f.read()\n",
        "        encoded_content = base64.b64encode(image_bytes).decode(\"utf-8\")\n",
        "        image_struct.fields['bytesBase64Encoded'].string_value = encoded_content\n",
        "\n",
        "    instances = [instance]\n",
        "    endpoint = (f\"projects/{self.project}/locations/{self.location}\"\n",
        "      \"/publishers/google/models/multimodalembedding@001\")\n",
        "    response = self.client.predict(endpoint=endpoint, instances=instances)\n",
        "\n",
        "    text_embedding = None\n",
        "    if text:\n",
        "      text_emb_value = response.predictions[0]['textEmbedding']\n",
        "      text_embedding = [v for v in text_emb_value]\n",
        "\n",
        "    image_embedding = None\n",
        "    if image_path:\n",
        "      image_emb_value = response.predictions[0]['imageEmbedding']\n",
        "      image_embedding = [v for v in image_emb_value]\n",
        "\n",
        "    return EmbeddingResponse(\n",
        "      text_embedding=text_embedding,\n",
        "      image_embedding=image_embedding)\n",
        "\n",
        "@cache\n",
        "def get_client(project):\n",
        "  return EmbeddingPredictionClient(project)\n",
        "\n",
        "\n",
        "def embed(project,text,image_path=None):\n",
        "  client = get_client(project)\n",
        "  start = time.time()\n",
        "  response = client.get_embedding(text=text, image_path=image_path)\n",
        "  end = time.time()\n",
        "  print('Embedding Time: ', end - start)\n",
        "  return response"
      ],
      "metadata": {
        "id": "pd5mkaF_8cnl"
      },
      "execution_count": 11,
      "outputs": []
    },
    {
      "cell_type": "code",
      "source": [
        "res = embed(PROJECT_ID,\n",
        "            \"Key Features of Vishudh Printed Women's Straight Kurta BLACK, GREY Straight,Specifications of Vishudh Printed Women's Straight Kurta Kurta Details Sleeve Sleeveless Number of Contents in Sales Package Pack of 1 Fabric 100% POLYESTER Type Straight Neck ROUND NECK General Details Pattern Printed Occasion Festive Ideal For Women's In the Box Kurta Additional Details Style Code VNKU004374 BLACK::GREY Fabric Care Gentle Machine Wash in Lukewarm Water, Do Not Bleach\",\n",
        "            'gs://genai-product-catalog/flipkart_20k_oct26/3ecb859759e5311cbab6850e98879522_0.jpg')"
      ],
      "metadata": {
        "colab": {
          "base_uri": "https://localhost:8080/"
        },
        "id": "n1JFEhHg9i-Q",
        "outputId": "70c78ea5-02ed-4d75-b486-658bf42ea358"
      },
      "execution_count": 12,
      "outputs": [
        {
          "output_type": "stream",
          "name": "stdout",
          "text": [
            "Embedding Time:  0.639094352722168\n"
          ]
        }
      ]
    },
    {
      "cell_type": "code",
      "source": [
        "NUM_NEIGHBORS = 5\n",
        "response = my_index_endpoint.find_neighbors(\n",
        "    deployed_index_id=DEPLOYED_INDEX_ID,\n",
        "    queries=[res.text_embedding,res.image_embedding],\n",
        "    num_neighbors=NUM_NEIGHBORS,\n",
        ")\n",
        "\n",
        "response"
      ],
      "metadata": {
        "colab": {
          "base_uri": "https://localhost:8080/"
        },
        "id": "VfHSWqOc9n7g",
        "outputId": "d5d9632b-d6e4-4d96-921a-cf1104f8d945"
      },
      "execution_count": 13,
      "outputs": [
        {
          "output_type": "execute_result",
          "data": {
            "text/plain": [
              "[[MatchNeighbor(id='3ecb859759e5311cbab6850e98879522_T', distance=1.7881393432617188e-07),\n",
              "  MatchNeighbor(id='0305111c779fe663bd94122bef0f0002_T', distance=0.1887233853340149),\n",
              "  MatchNeighbor(id='ba8163913f5e384d17a8202b1f8b91b3_T', distance=0.25931215286254883),\n",
              "  MatchNeighbor(id='6ef0a5eb033cd610d455be7102da5685_T', distance=0.3441193103790283),\n",
              "  MatchNeighbor(id='ee383a337af67ae8ad4f42714d67ddaf_T', distance=0.3441193103790283)],\n",
              " [MatchNeighbor(id='3ecb859759e5311cbab6850e98879522_I', distance=0.0),\n",
              "  MatchNeighbor(id='06ad8323cf9105f1aaae6515cf08a7d6_I', distance=0.03433966636657715),\n",
              "  MatchNeighbor(id='c9c27aa5dc7df49e82e55e8abb6b4020_I', distance=0.04238331317901611),\n",
              "  MatchNeighbor(id='169902631b89202f0e2079e9cc09b3c7_I', distance=0.04768931865692139),\n",
              "  MatchNeighbor(id='5614ccefd0ab9bee5cd28bf3d38fd12f_I', distance=0.0625385046005249)]]"
            ]
          },
          "metadata": {},
          "execution_count": 13
        }
      ]
    },
    {
      "cell_type": "markdown",
      "source": [
        "# Create Streaming index with sample data\n",
        "https://colab.sandbox.google.com/drive/1grzY8Idzq1kMDnFPqp5E7d8RWuuGactA?resourcekey=0-kUMWFahjwGNzSFrZkVHU8g#scrollTo=QRCnFT4B0jnm"
      ],
      "metadata": {
        "id": "_wTb4204kCDM"
      }
    },
    {
      "cell_type": "markdown",
      "source": [
        "# TODO: Update Batch Index"
      ],
      "metadata": {
        "id": "lf_aqnfluoGa"
      }
    },
    {
      "cell_type": "code",
      "source": [
        "#Save this json as request.json and use in next cell\n",
        "request = {\n",
        "  \"metadata\": {\n",
        "    \"contentsDeltaUri\": \"INPUT_DIR\",\n",
        "    \"isCompleteOverwrite\": true\n",
        "  }\n",
        "}"
      ],
      "metadata": {
        "id": "w8pAHLl7veVc"
      },
      "execution_count": null,
      "outputs": []
    },
    {
      "cell_type": "code",
      "source": [
        "curl -X PATCH \\\n",
        "    -H \"Authorization: Bearer $(gcloud auth print-access-token)\" \\\n",
        "    -H \"Content-Type: application/json; charset=utf-8\" \\\n",
        "    -d @request.json \\\n",
        "    \"https://LOCATION-aiplatform.googleapis.com/v1/projects/PROJECT_ID/locations/LOCATION/indexes/INDEX_ID\"\n",
        ""
      ],
      "metadata": {
        "id": "7y-qCYKaj205"
      },
      "execution_count": null,
      "outputs": []
    },
    {
      "cell_type": "markdown",
      "source": [
        "# TODO: Update Streaming Index"
      ],
      "metadata": {
        "id": "L_PdMLaUuv9R"
      }
    },
    {
      "cell_type": "code",
      "source": [
        "#Upsert Data Point\n",
        "DATAPOINT_ID_1=\n",
        "DATAPOINT_ID_2=\n",
        "curl -H \"Content-Type: application/json\" -H \"Authorization: Bearer `gcloud auth print-access-token`\" https://${LOCATION}-aiplatform.googleapis.com/v1/projects/${PROJECT_ID}/locations/${LOCATION}/indexes/${INDEX_ID}:upsertDatapoints \\\n",
        "-d '{datapoints: [{datapoint_id: \"'${DATAPOINT_ID_1}'\", feature_vector: [...]},\n",
        "{datapoint_id: \"'${DATAPOINT_ID_2}'\", feature_vector: [...]}]}'\n"
      ],
      "metadata": {
        "id": "rGu1XhmGu0XP"
      },
      "execution_count": null,
      "outputs": []
    }
  ]
}